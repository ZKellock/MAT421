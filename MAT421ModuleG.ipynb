{
  "nbformat": 4,
  "nbformat_minor": 0,
  "metadata": {
    "colab": {
      "provenance": [],
      "authorship_tag": "ABX9TyM/2RAkp3eg6xqada4oIwVv",
      "include_colab_link": true
    },
    "kernelspec": {
      "name": "python3",
      "display_name": "Python 3"
    },
    "language_info": {
      "name": "python"
    }
  },
  "cells": [
    {
      "cell_type": "markdown",
      "metadata": {
        "id": "view-in-github",
        "colab_type": "text"
      },
      "source": [
        "<a href=\"https://colab.research.google.com/github/ZKellock/MAT421/blob/main/MAT421ModuleG.ipynb\" target=\"_parent\"><img src=\"https://colab.research.google.com/assets/colab-badge.svg\" alt=\"Open In Colab\"/></a>"
      ]
    },
    {
      "cell_type": "markdown",
      "source": [
        "**21.1 Numerical Integration Problem Statement**\n",
        "*   To approximate an integral of $f(x)$ over an interval $[a,b]$, the interval is split into $n+1$ discrete points\n",
        "*   Each segment makes a sub interval\n",
        "*   Used when direct integration can be time consuming\n",
        "*   Approximations use simple geometric shapes to easily compute areas\n",
        "*   Summing shape areas approximates the value of the integral\n",
        "\n",
        "**21.2 Riemann's Integral**\n",
        "*   Simplest method of integral apprxoimation\n",
        "*   Uses rectangles defined for each subinterval\n",
        "*   $\\int f(x)dx\\approx\\Sigma h\\cdot f(x_i)$ where h is the width of each rectangle and $f(x_i)$ is the height\n",
        "*   The total error of the Riemann sum is $O(h)$ over an arbitrary interval\n",
        "*   Decreasing the width (h) creates more rectangles and makes the approximation more accurate\n",
        "\n",
        "Midpoint Rule:\n",
        "*   $\\int f(x)dx\\approx\\Sigma h\\cdot f(y_i)$ where $y_i=\\frac{x_{i+1}+x_i}2$"
      ],
      "metadata": {
        "id": "dNZhk2v1Dzjl"
      }
    },
    {
      "cell_type": "code",
      "execution_count": 1,
      "metadata": {
        "colab": {
          "base_uri": "https://localhost:8080/"
        },
        "id": "8Wk3x3mDDwbs",
        "outputId": "c0e2b44f-df88-4eed-fbb9-8933507accff"
      },
      "outputs": [
        {
          "output_type": "stream",
          "name": "stdout",
          "text": [
            "Left Reimann Sum: 0.9194031700146124\n",
            "Left Reimann Err: 0.08059682998538764\n",
            "\n",
            "Right Reimann Sum: 1.076482802694102\n",
            "Right Reimann Err: -0.07648280269410201\n",
            "\n",
            "Mid Reimann Sum: 1.0010288241427086\n",
            "Mid Reimann Err: -0.001028824142708551\n",
            "\n",
            "\n"
          ]
        }
      ],
      "source": [
        "import numpy as np\n",
        "\n",
        "a = 0\n",
        "b = np.pi/2\n",
        "n = 11\n",
        "h = (b - a) / (n - 1)\n",
        "x = np.linspace(a, b, n)\n",
        "f = np.sin(x)\n",
        "\n",
        "I_riemannL = h * sum(f[:n-1])\n",
        "err_riemannL = 1 - I_riemannL\n",
        "\n",
        "I_riemannR = h * sum(f[1::])\n",
        "err_riemannR = 1 - I_riemannR\n",
        "\n",
        "I_mid = h * sum(np.sin((x[:n-1] + x[1:])/2))\n",
        "err_mid = 1 - I_mid\n",
        "\n",
        "print(\"Left Reimann Sum: \" + str(I_riemannL))\n",
        "print(\"Left Reimann Err: \" + str(err_riemannL))\n",
        "print()\n",
        "\n",
        "print(\"Right Reimann Sum: \" + str(I_riemannR))\n",
        "print(\"Right Reimann Err: \" + str(err_riemannR))\n",
        "print()\n",
        "\n",
        "print(\"Mid Reimann Sum: \" + str(I_mid))\n",
        "print(\"Mid Reimann Err: \" + str(err_mid))\n",
        "print()\n",
        "print()"
      ]
    },
    {
      "cell_type": "markdown",
      "source": [
        "**21.3 Trapezoid Rule**\n",
        "*   Trapezoids are used instead of rectangles for each subinterval\n",
        "*   Corners of the trapezoid are $(x_i, 0), (x_i+1, 0), (x_i, f(x_i)), and (x_i+1, f(x_i+1))$\n",
        "*   $\\int f(x)dx\\approx\\Sigma h\\cdot \\frac{f(x_i)+f(x_i+1)}2$"
      ],
      "metadata": {
        "id": "S8YDpsdMIAoW"
      }
    },
    {
      "cell_type": "code",
      "source": [
        "import numpy as np\n",
        "\n",
        "a = 0\n",
        "b = np.pi/2\n",
        "n = 11\n",
        "h = (b - a) / (n - 1)\n",
        "x = np.linspace(a, b, n)\n",
        "f = np.sin(x)\n",
        "\n",
        "I_trap = (h/2)*(f[0] + 2 * sum(f[1:n-1]) + f[n-1])\n",
        "err_trap = 1 - I_trap\n",
        "\n",
        "print(\"Trapezoid Sum: \" + str(I_trap))\n",
        "print(\"Trapezoid Err: \" + str(err_trap))\n",
        "print()\n",
        "\n",
        "# Adding more trapezoids for more accuracy\n",
        "n = 30\n",
        "h = (b - a) / (n - 1)\n",
        "x = np.linspace(a, b, n)\n",
        "f = np.sin(x)\n",
        "\n",
        "I_trap = (h/2)*(f[0] + 2 * sum(f[1:n-1]) + f[n-1])\n",
        "err_trap = 1 - I_trap\n",
        "\n",
        "print(\"Trapezoid Sum: \" + str(I_trap))\n",
        "print(\"Trapezoid Err: \" + str(err_trap))\n",
        "print()"
      ],
      "metadata": {
        "colab": {
          "base_uri": "https://localhost:8080/"
        },
        "id": "TIgfngzXHaxs",
        "outputId": "d23a019c-ab1b-4283-f480-6fefc16810c2"
      },
      "execution_count": 2,
      "outputs": [
        {
          "output_type": "stream",
          "name": "stdout",
          "text": [
            "Trapezoid Sum: 0.9979429863543572\n",
            "Trapezoid Err: 0.0020570136456428134\n",
            "\n",
            "Trapezoid Sum: 0.9997554972492991\n",
            "Trapezoid Err: 0.00024450275070087013\n",
            "\n"
          ]
        }
      ]
    },
    {
      "cell_type": "code",
      "source": [],
      "metadata": {
        "id": "j7SKM-M7JWvb"
      },
      "execution_count": 2,
      "outputs": []
    }
  ]
}