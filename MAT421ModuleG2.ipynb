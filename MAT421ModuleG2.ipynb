{
  "nbformat": 4,
  "nbformat_minor": 0,
  "metadata": {
    "colab": {
      "provenance": [],
      "authorship_tag": "ABX9TyMhil3Qun8xHZT1CG0+0V3M",
      "include_colab_link": true
    },
    "kernelspec": {
      "name": "python3",
      "display_name": "Python 3"
    },
    "language_info": {
      "name": "python"
    }
  },
  "cells": [
    {
      "cell_type": "markdown",
      "metadata": {
        "id": "view-in-github",
        "colab_type": "text"
      },
      "source": [
        "<a href=\"https://colab.research.google.com/github/ZKellock/MAT421/blob/main/MAT421ModuleG2.ipynb\" target=\"_parent\"><img src=\"https://colab.research.google.com/assets/colab-badge.svg\" alt=\"Open In Colab\"/></a>"
      ]
    },
    {
      "cell_type": "markdown",
      "source": [
        "**21.4 Simpson's Rule**\n",
        "*   Given 2 subintervals $[x_i-1, x_i]$ and $[x_i, x_i+1]$, Simpson's rule is used to approximate the area under a curve over these subintervals\n",
        "*   Fits a quadratic polynomial through the points $(x_i-1, f(x_i-1)), (x_i, f(x_i))$ and $(x_i+1, f(x_i+1))$\n",
        "*   Integrate the polynomial exactly\n",
        "*   Constrict the quadratic using Lagrange polynomials\n",
        "*   The rule requires an even number of intervals -> an odd number of points"
      ],
      "metadata": {
        "id": "CsW8Y_t_su-t"
      }
    },
    {
      "cell_type": "code",
      "execution_count": 1,
      "metadata": {
        "colab": {
          "base_uri": "https://localhost:8080/"
        },
        "id": "pWWmtRpXsrxA",
        "outputId": "5a043fd7-7b37-443e-d81e-737490d1ee58"
      },
      "outputs": [
        {
          "output_type": "stream",
          "name": "stdout",
          "text": [
            "Simpson's approximation: 8.821685475443087e-17\n",
            "Simpson's appriximation error: -8.821685475443087e-17\n"
          ]
        }
      ],
      "source": [
        "import numpy as np\n",
        "\n",
        "a = 0\n",
        "b = 2 * np.pi\n",
        "n = 11\n",
        "h = (b - a) / (n - 1)\n",
        "x = np.linspace(a, b, n)\n",
        "f = np.sin(x)\n",
        "\n",
        "I_simp = (h/3) * (f[0] + 2*sum(f[:n-2:2]) + 4*sum(f[1:n-1:2]) + f[n-1])\n",
        "err_simp = 0 - I_simp\n",
        "\n",
        "print(\"Simpson's approximation: \" + str(I_simp))\n",
        "print(\"Simpson's appriximation error: \" + str(err_simp))"
      ]
    },
    {
      "cell_type": "markdown",
      "source": [
        "**21.5 Computing Integrals in Python**\n",
        "*   Scipy.integrate is a useful library which contains functions for computing integrals"
      ],
      "metadata": {
        "id": "tPq8xMcSxV74"
      }
    },
    {
      "cell_type": "code",
      "source": [
        "import numpy as np\n",
        "from numpy import trapezoid\n",
        "\n",
        "a = 0\n",
        "b = 2 * np.pi\n",
        "n = 11\n",
        "h = (b - a) / (n - 1)\n",
        "x = np.linspace(a, b, n)\n",
        "f = np.sin(x)\n",
        "\n",
        "I_trapz = trapezoid(f,x)\n",
        "I_trap = (h/2)*(f[0] + 2 * sum(f[1:n-1]) + f[n-1])\n",
        "\n",
        "print(\"Trapezoid Rule Integration: \" + str(I_trapz))\n",
        "print(\"Trapezoid Rule Error: \" + str(I_trap))"
      ],
      "metadata": {
        "colab": {
          "base_uri": "https://localhost:8080/"
        },
        "id": "W3gw0C4-w7yY",
        "outputId": "c9b0bc29-8340-4c07-98e0-db503548bb0b"
      },
      "execution_count": 6,
      "outputs": [
        {
          "output_type": "stream",
          "name": "stdout",
          "text": [
            "Trapezoid Rule Integration: 1.6653345369377348e-16\n",
            "Trapezoid Rule Error: -7.694682774887159e-17\n"
          ]
        }
      ]
    },
    {
      "cell_type": "code",
      "source": [
        "from scipy.integrate import quad\n",
        "\n",
        "I_quad, est_err_quad = quad(np.sin, 0, 2* np.pi)\n",
        "err_quad = 0 - I_quad\n",
        "\n",
        "print(\"Quad Integral Results: \" + str(I_quad))\n",
        "print(\"Error: \" + str(est_err_quad) + \" \" + str(err_quad))"
      ],
      "metadata": {
        "colab": {
          "base_uri": "https://localhost:8080/"
        },
        "id": "hMW2rMsexkny",
        "outputId": "3c2abe87-25f4-4a45-fdee-8e86ca7a0c3e"
      },
      "execution_count": 7,
      "outputs": [
        {
          "output_type": "stream",
          "name": "stdout",
          "text": [
            "Quad Integral Results: 2.221501482512777e-16\n",
            "Error: 4.3998892617845996e-14 -2.221501482512777e-16\n"
          ]
        }
      ]
    },
    {
      "cell_type": "code",
      "source": [],
      "metadata": {
        "id": "QXsMe3BSygFN"
      },
      "execution_count": null,
      "outputs": []
    }
  ]
}