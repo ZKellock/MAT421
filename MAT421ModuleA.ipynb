{
  "nbformat": 4,
  "nbformat_minor": 0,
  "metadata": {
    "colab": {
      "provenance": [],
      "authorship_tag": "ABX9TyNViomeKqOSUXbvwyaLg2pD",
      "include_colab_link": true
    },
    "kernelspec": {
      "name": "python3",
      "display_name": "Python 3"
    },
    "language_info": {
      "name": "python"
    }
  },
  "cells": [
    {
      "cell_type": "markdown",
      "metadata": {
        "id": "view-in-github",
        "colab_type": "text"
      },
      "source": [
        "<a href=\"https://colab.research.google.com/github/ZKellock/MAT421/blob/main/MAT421ModuleA.ipynb\" target=\"_parent\"><img src=\"https://colab.research.google.com/assets/colab-badge.svg\" alt=\"Open In Colab\"/></a>"
      ]
    },
    {
      "cell_type": "code",
      "source": [
        "import numpy as np\n",
        "import sys"
      ],
      "metadata": {
        "id": "L3AvlzudphHS"
      },
      "execution_count": 1,
      "outputs": []
    },
    {
      "cell_type": "markdown",
      "source": [
        "**9.1 Base-N and Binray**\n",
        "*   We are used to representing numbers with the decimal system, or base 10, which uses the digits from 0-9 to represent a number based on it's powers of 10.\n",
        "*   Another way of representing numbers that is used by computers is binary, or base 2, which uses only 0's and 1's.\n",
        "*   An example of this is the number 11, which is $8 + 2 + 1$, or $1*2^3+0*2^2+1*2^1+1-2^0=1011(base2)$\n",
        "\n"
      ],
      "metadata": {
        "id": "9lA5qsRjgdG2"
      }
    },
    {
      "cell_type": "code",
      "source": [
        "# 13 in decimal is equal to 1101 in binary\n",
        "\n",
        "1*(2**3) + 1*(2**2) + 0*(2**1) + 1*(2**0)"
      ],
      "metadata": {
        "colab": {
          "base_uri": "https://localhost:8080/"
        },
        "id": "oJntntYSpebn",
        "outputId": "4aeb1917-a807-427f-f6ae-7c4577ca530c"
      },
      "execution_count": 2,
      "outputs": [
        {
          "output_type": "execute_result",
          "data": {
            "text/plain": [
              "13"
            ]
          },
          "metadata": {},
          "execution_count": 2
        }
      ]
    },
    {
      "cell_type": "markdown",
      "source": [
        "Binary can also be used to perform the same arithmetic operations as decimal"
      ],
      "metadata": {
        "id": "8-t6fGBPqjeK"
      }
    },
    {
      "cell_type": "code",
      "source": [
        "# Addition in binary\n",
        "# 11 + 13 = 24\n",
        "# 1011 + 1101 = 11000\n",
        "1*(2**4) + 1*(2**3) + 0*(2**2) + 0*(2**1) + 0*(2**0)"
      ],
      "metadata": {
        "colab": {
          "base_uri": "https://localhost:8080/"
        },
        "id": "c58biPNCqytR",
        "outputId": "7bafe939-7996-428e-f734-327e14036ff9"
      },
      "execution_count": 3,
      "outputs": [
        {
          "output_type": "execute_result",
          "data": {
            "text/plain": [
              "24"
            ]
          },
          "metadata": {},
          "execution_count": 3
        }
      ]
    },
    {
      "cell_type": "markdown",
      "source": [
        "**9.2 Floating Point Numbers**\n",
        "\n",
        "Floating point numbers are used to allow binary to access much larger and precise values than simple binary\n",
        "\n",
        "By separating a 64 bit string into 1 sign bit s, 11 exponent bits e, and 52 fraction bits f, a floating point number can be found using the following formula:\n",
        "\n",
        "*   $N=(-1)^s(2^{e-1203})(1+f)$\n"
      ],
      "metadata": {
        "id": "ICPFPMvkrVuv"
      }
    },
    {
      "cell_type": "code",
      "source": [
        "sys.float_info"
      ],
      "metadata": {
        "colab": {
          "base_uri": "https://localhost:8080/"
        },
        "id": "MpodoFRgrMmt",
        "outputId": "49497d0f-42f6-42cd-dc40-c7a977aad366"
      },
      "execution_count": 4,
      "outputs": [
        {
          "output_type": "execute_result",
          "data": {
            "text/plain": [
              "sys.float_info(max=1.7976931348623157e+308, max_exp=1024, max_10_exp=308, min=2.2250738585072014e-308, min_exp=-1021, min_10_exp=-307, dig=15, mant_dig=53, epsilon=2.220446049250313e-16, radix=2, rounds=1)"
            ]
          },
          "metadata": {},
          "execution_count": 4
        }
      ]
    },
    {
      "cell_type": "markdown",
      "source": [
        "The spacing between the actual value and the value represented by the floating point number can be found using numpy's spacing function"
      ],
      "metadata": {
        "id": "aMso7gJbyEB_"
      }
    },
    {
      "cell_type": "code",
      "source": [
        "np.spacing(1e15)"
      ],
      "metadata": {
        "colab": {
          "base_uri": "https://localhost:8080/"
        },
        "id": "4_i8qLd2xvtQ",
        "outputId": "a0c4c70e-aafa-4324-ddfb-e37c19a53ec5"
      },
      "execution_count": 5,
      "outputs": [
        {
          "output_type": "execute_result",
          "data": {
            "text/plain": [
              "0.125"
            ]
          },
          "metadata": {},
          "execution_count": 5
        }
      ]
    },
    {
      "cell_type": "code",
      "source": [
        "sys.float_info.max"
      ],
      "metadata": {
        "colab": {
          "base_uri": "https://localhost:8080/"
        },
        "id": "obDRzMzVyRkE",
        "outputId": "98552e6b-1762-4bff-b62c-4b1561b33ae2"
      },
      "execution_count": 6,
      "outputs": [
        {
          "output_type": "execute_result",
          "data": {
            "text/plain": [
              "1.7976931348623157e+308"
            ]
          },
          "metadata": {},
          "execution_count": 6
        }
      ]
    },
    {
      "cell_type": "code",
      "source": [
        "sys.float_info.min"
      ],
      "metadata": {
        "colab": {
          "base_uri": "https://localhost:8080/"
        },
        "id": "Emse32bTymDI",
        "outputId": "31a86fa6-7521-4850-a600-940079f2972c"
      },
      "execution_count": 7,
      "outputs": [
        {
          "output_type": "execute_result",
          "data": {
            "text/plain": [
              "2.2250738585072014e-308"
            ]
          },
          "metadata": {},
          "execution_count": 7
        }
      ]
    },
    {
      "cell_type": "markdown",
      "source": [
        "**9.3 Round-Off Errors**\n",
        "\n",
        "Floating point numbers cannot be stored with exact precision, which means that arithmetic operations using floating point numbers will result in some slight errors called round-off errors. These errors increase the more operations are performed"
      ],
      "metadata": {
        "id": "jcIW9DBdyqD8"
      }
    },
    {
      "cell_type": "code",
      "source": [
        "10.9 - 9.845"
      ],
      "metadata": {
        "colab": {
          "base_uri": "https://localhost:8080/"
        },
        "id": "qUveWHknz6yC",
        "outputId": "597a1769-1158-4447-e899-96badbc6d739"
      },
      "execution_count": 8,
      "outputs": [
        {
          "output_type": "execute_result",
          "data": {
            "text/plain": [
              "1.0549999999999997"
            ]
          },
          "metadata": {},
          "execution_count": 8
        }
      ]
    },
    {
      "cell_type": "code",
      "source": [
        "print(1+1/4-1/4) # Accurate with only one operation"
      ],
      "metadata": {
        "colab": {
          "base_uri": "https://localhost:8080/"
        },
        "id": "OGwXTCWdynxh",
        "outputId": "59dfe99d-889a-4e12-e647-bc7cc4b98d06"
      },
      "execution_count": 9,
      "outputs": [
        {
          "output_type": "stream",
          "name": "stdout",
          "text": [
            "1.0\n"
          ]
        }
      ]
    },
    {
      "cell_type": "code",
      "source": [
        "# Function definition to add and subtract\n",
        "def floating_point_error(iterations):\n",
        "  result = 1\n",
        "  for i in range(iterations):\n",
        "      result += 1/7\n",
        "  for i in range(iterations):\n",
        "      result -= 1/7\n",
        "  return result\n",
        "floating_point_error(1000)"
      ],
      "metadata": {
        "colab": {
          "base_uri": "https://localhost:8080/"
        },
        "id": "e4itpVOY1NSM",
        "outputId": "a57ba4d4-da1b-4d22-fdf3-74ec418dade9"
      },
      "execution_count": 10,
      "outputs": [
        {
          "output_type": "execute_result",
          "data": {
            "text/plain": [
              "0.9999999999999947"
            ]
          },
          "metadata": {},
          "execution_count": 10
        }
      ]
    },
    {
      "cell_type": "code",
      "source": [
        "floating_point_error(10000)"
      ],
      "metadata": {
        "colab": {
          "base_uri": "https://localhost:8080/"
        },
        "id": "87mNTTAB1b4p",
        "outputId": "2244c9f8-b0df-400c-8797-6cb218f4865d"
      },
      "execution_count": 11,
      "outputs": [
        {
          "output_type": "execute_result",
          "data": {
            "text/plain": [
              "1.0000000000001044"
            ]
          },
          "metadata": {},
          "execution_count": 11
        }
      ]
    }
  ]
}