{
  "nbformat": 4,
  "nbformat_minor": 0,
  "metadata": {
    "colab": {
      "provenance": [],
      "authorship_tag": "ABX9TyP/uOfCezeulKxGQn1C+J7x",
      "include_colab_link": true
    },
    "kernelspec": {
      "name": "python3",
      "display_name": "Python 3"
    },
    "language_info": {
      "name": "python"
    }
  },
  "cells": [
    {
      "cell_type": "markdown",
      "metadata": {
        "id": "view-in-github",
        "colab_type": "text"
      },
      "source": [
        "<a href=\"https://colab.research.google.com/github/ZKellock/MAT421/blob/main/MAT421ModuleC.ipynb\" target=\"_parent\"><img src=\"https://colab.research.google.com/assets/colab-badge.svg\" alt=\"Open In Colab\"/></a>"
      ]
    },
    {
      "cell_type": "markdown",
      "source": [
        "**19.1 Root Finding Problem Statement**\n",
        "*   Finding the roots of a polynomial expression can have many uses. For lower degree polynomials it can be quite simple, but for higher degree polynomials it becomes more difficult.\n",
        "*   A root is an x-value where a function crosses the x-axis\n",
        "*   Some roots are difficult to find exactly, so approximations are used."
      ],
      "metadata": {
        "id": "A8nrZ7LVLRop"
      }
    },
    {
      "cell_type": "code",
      "execution_count": 1,
      "metadata": {
        "colab": {
          "base_uri": "https://localhost:8080/"
        },
        "id": "8yKF47SRA_aK",
        "outputId": "2ad3e875-3599-44c1-b338-4806c18163b4"
      },
      "outputs": [
        {
          "output_type": "stream",
          "name": "stdout",
          "text": [
            "r = [0.73908513]\n",
            "result= [0.]\n"
          ]
        }
      ],
      "source": [
        "# An example of using numerical approximation to find the root of the function cos(x) - near x=1\n",
        "\n",
        "import numpy as np\n",
        "from scipy import optimize\n",
        "\n",
        "f = lambda x: np.cos(x) - x\n",
        "r = optimize.fsolve(f, 1) # Approximate the root\n",
        "print(\"r =\", r)\n",
        "\n",
        "result = f(r) # Check the result\n",
        "print(\"result=\", result)"
      ]
    },
    {
      "cell_type": "markdown",
      "source": [
        "**19.2 Tolerance**\n",
        "*   The error in an approximation is the difference between the actual value and a computed value. Tolerance is the accepted level of error allowed for computations.\n",
        "*   An approximation is considered to be a solution when its error is less than the tolerance.\n",
        "*   Tolerance can be different based on different applications of root finding."
      ],
      "metadata": {
        "id": "ohHioWoUP61p"
      }
    },
    {
      "cell_type": "markdown",
      "source": [
        "**19.3 Bisection Method**\n",
        "*   Intermediate Value Theorem states that if a function is continuous between a pair of points a, b, for any value f(c) that satisfies f(a) > f(c) > f(b), there exists a point c such that a < c < b.\n",
        "*   The bisection method utilizes the IVT to iteratively find roots. If the y-values of points a and b have different signs, there must be a root between a and b.\n",
        "*   The bisection method calculates the midpoint between the two points. If the midpoint is within the tolerance it is delacred the root, otherwise it replaces either point a or b depending on its sign."
      ],
      "metadata": {
        "id": "tm_rH01NRKOX"
      }
    },
    {
      "cell_type": "code",
      "source": [
        "import numpy as np\n",
        "\n",
        "def my_bisection(f, a, b, tol):\n",
        "    if np.sign(f(a)) == np.sign(f(b)):\n",
        "        raise Exception(\n",
        "         \"No roots between a and b\")\n",
        "    m = (a + b)/2\n",
        "    if np.abs(f(m)) < tol:\n",
        "        return m\n",
        "    elif np.sign(f(a)) == np.sign(f(m)):\n",
        "        return my_bisection(f, m, b, tol)\n",
        "    elif np.sign(f(b)) == np.sign(f(m)):\n",
        "        return my_bisection(f, a, m, tol)\n",
        "\n",
        "# Use bisection function on x^2 - 5\n",
        "f = lambda x: x**2 - 5\n",
        "\n",
        "r1 = my_bisection(f, 0, 3, 0.1)\n",
        "print(\"r1 =\", r1)\n",
        "r01 = my_bisection(f, 0, 3, 0.01)\n",
        "print(\"r01 =\", r01)\n",
        "\n",
        "print(\"f(r1) =\", f(r1))\n",
        "print(\"f(r01) =\", f(r01))"
      ],
      "metadata": {
        "colab": {
          "base_uri": "https://localhost:8080/"
        },
        "id": "nk6bjiCMO3FU",
        "outputId": "2b73a22d-4198-432a-ece5-6977aa7b59bd"
      },
      "execution_count": 2,
      "outputs": [
        {
          "output_type": "stream",
          "name": "stdout",
          "text": [
            "r1 = 2.25\n",
            "r01 = 2.23828125\n",
            "f(r1) = 0.0625\n",
            "f(r01) = 0.0099029541015625\n"
          ]
        }
      ]
    },
    {
      "cell_type": "markdown",
      "source": [
        "**19.4 Newton-Raphson Method**\n",
        "*   This method uses linear approximations around a starting value, finds its intersection with the x axis, and uses that value as the new starting value.\n",
        "*   This method iterates Newton steps from an initial guess until the error is within the tolerance."
      ],
      "metadata": {
        "id": "t7x0a_GQTYgL"
      }
    },
    {
      "cell_type": "code",
      "source": [
        "import numpy as np\n",
        "\n",
        "f = lambda x: x**2 - 2\n",
        "f_prime = lambda x: 2*x\n",
        "newton_raphson = 1.4 - (f(1.4))/(f_prime(1.4))\n",
        "\n",
        "print(\"newton_raphson =\", newton_raphson)\n",
        "print(\"sqrt(2) =\", np.sqrt(2))\n",
        "\n",
        "def my_newton(f, df, x0, tol): # Recursive implementation of Newton Raphson\n",
        "    if abs(f(x0)) < tol:\n",
        "        return x0\n",
        "    else:\n",
        "        return my_newton(f, df, x0 - f(x0)/df(x0), tol)\n",
        "\n",
        "estimate = my_newton(f, f_prime, 1.5, 1e-6)\n",
        "print(\"estimate =\", estimate)\n",
        "print(\"sqrt(2) =\", np.sqrt(2))"
      ],
      "metadata": {
        "colab": {
          "base_uri": "https://localhost:8080/"
        },
        "id": "W5RiikylTDsU",
        "outputId": "1f6edf13-802f-407f-eb5a-37fe55c81314"
      },
      "execution_count": 3,
      "outputs": [
        {
          "output_type": "stream",
          "name": "stdout",
          "text": [
            "newton_raphson = 1.4142857142857144\n",
            "sqrt(2) = 1.4142135623730951\n",
            "estimate = 1.4142135623746899\n",
            "sqrt(2) = 1.4142135623730951\n"
          ]
        }
      ]
    },
    {
      "cell_type": "markdown",
      "source": [
        "**19.5 Root Finding in Python**\n",
        "*   Python can be used to avoid such methods. Python has its own root finding function that can be utilized."
      ],
      "metadata": {
        "id": "PHPinZzeW9i8"
      }
    },
    {
      "cell_type": "code",
      "source": [
        "from scipy.optimize import fsolve\n",
        "f = lambda x: x**3-100*x**2-x+100\n",
        "fsolve(f, [2, 80])\n",
        "\n",
        "f = lambda x: x**7-569*x**9-x+10000 - x**(0.5)\n",
        "fsolve(f, [2, 80])"
      ],
      "metadata": {
        "colab": {
          "base_uri": "https://localhost:8080/"
        },
        "id": "CncpsUG7VLeq",
        "outputId": "20127399-a327-4d55-cba9-0ad97c2527e7"
      },
      "execution_count": 4,
      "outputs": [
        {
          "output_type": "execute_result",
          "data": {
            "text/plain": [
              "array([1.37561467, 1.37516063])"
            ]
          },
          "metadata": {},
          "execution_count": 4
        }
      ]
    }
  ]
}