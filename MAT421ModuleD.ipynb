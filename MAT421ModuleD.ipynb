{
  "nbformat": 4,
  "nbformat_minor": 0,
  "metadata": {
    "colab": {
      "provenance": [],
      "authorship_tag": "ABX9TyNhAk7CWL6dZ4CPw3/p+vjY",
      "include_colab_link": true
    },
    "kernelspec": {
      "name": "python3",
      "display_name": "Python 3"
    },
    "language_info": {
      "name": "python"
    }
  },
  "cells": [
    {
      "cell_type": "markdown",
      "metadata": {
        "id": "view-in-github",
        "colab_type": "text"
      },
      "source": [
        "<a href=\"https://colab.research.google.com/github/ZKellock/MAT421/blob/main/MAT421ModuleD.ipynb\" target=\"_parent\"><img src=\"https://colab.research.google.com/assets/colab-badge.svg\" alt=\"Open In Colab\"/></a>"
      ]
    },
    {
      "cell_type": "markdown",
      "source": [
        "**1.1 Introduction**\n",
        "*   Linear algebra is important for solving problems involving multiple equations. It is used for many present day applications such as data science and machine learning\n",
        "*   While it can be done by hand, it is much faster to use programs to solve."
      ],
      "metadata": {
        "id": "paje9fDhyA-L"
      }
    },
    {
      "cell_type": "code",
      "execution_count": 6,
      "metadata": {
        "colab": {
          "base_uri": "https://localhost:8080/"
        },
        "id": "KOlAaxpCxXfc",
        "outputId": "2ed67148-26cb-4c6d-dda2-71bb48fc541f"
      },
      "outputs": [
        {
          "output_type": "stream",
          "name": "stdout",
          "text": [
            "Shape of row:  (1, 6)\n",
            "Shape of col:  (4, 1)\n",
            "Cross Product:  [[-3  6 -3]]\n",
            "Dot Product:  [[ 7 14 21 28 35 42]\n",
            " [ 8 16 24 32 40 48]\n",
            " [ 9 18 27 36 45 54]\n",
            " [10 20 30 40 50 60]]\n"
          ]
        }
      ],
      "source": [
        "import numpy as np\n",
        "row = np.array([[1, 2, 3, 4, 5, 6]])\n",
        "col = np.array([[7], [8], [9], [10]])\n",
        "\n",
        "print(\"Shape of row: \", row.shape)\n",
        "print(\"Shape of col: \", col.shape)\n",
        "\n",
        "\n",
        "a = np.array([[1, 2, 3]])\n",
        "b = np.array([[4, 5, 6]])\n",
        "print(\"Cross Product of a and b: \", np.cross(a, b))\n",
        "print(\"Dot Product of col and row: \", np.dot(col, row))"
      ]
    },
    {
      "cell_type": "markdown",
      "source": [
        "**1.2 Elements of Linear Algebra**\n",
        "\n",
        "Linear Combination\n",
        "*   Constructs a new vector by multiplying exisitng vectors by a scalar and adding the results\n",
        "*   Can be done with as many vectors as desired\n",
        "\n",
        "Linear Subspace\n",
        "*   Constructed with linear combination"
      ],
      "metadata": {
        "id": "bbrz_sWI0rXW"
      }
    },
    {
      "cell_type": "code",
      "source": [
        "v = np.array([[6, -5, 5]])\n",
        "w = np.array([[0, 4, -9]])\n",
        "u = np.array([[3, -2, 0]])\n",
        "x = 4*v-3*w+2*u\n",
        "print(x)"
      ],
      "metadata": {
        "colab": {
          "base_uri": "https://localhost:8080/"
        },
        "id": "snA-tlSp0qYb",
        "outputId": "ac7d36e9-bfbc-4f56-a4d0-4b811787560b"
      },
      "execution_count": 8,
      "outputs": [
        {
          "output_type": "stream",
          "name": "stdout",
          "text": [
            "[[ 30 -36  47]]\n"
          ]
        }
      ]
    },
    {
      "cell_type": "markdown",
      "source": [
        "Span\n",
        "*   Span is the set of all linear combinations of a set of vectors\n",
        "*   A span is a linear subspace\n",
        "\n",
        "Column Space\n",
        "*   If A is a matrix, the column space of A is the span of the columns of A\n",
        "\n",
        "Linear Independence\n",
        "*   A set of vectors are linearly independent if none of the vectors in the set can be written as a linear combination of the other vectors\n",
        "*   Putting vectors into a matrix and checking a determinant can check linear independence. Zero means the vectors are linearly dependent."
      ],
      "metadata": {
        "id": "DAeAo21L29V6"
      }
    },
    {
      "cell_type": "code",
      "source": [
        "A=np.array([[9, -9, 0], [4, 1, 7], [6, -1, 13]])\n",
        "print(np.linalg.det(A)) # linearly independent\n",
        "\n",
        "B=np.array([[0, 0, 0], [4, 6, 1], [0, -2, 0]])\n",
        "print(np.linalg.det(B)) # linearly dependent"
      ],
      "metadata": {
        "colab": {
          "base_uri": "https://localhost:8080/"
        },
        "id": "5SGEr7tx21Pq",
        "outputId": "5537ffd7-dd06-4151-dc93-785a68b8bad0"
      },
      "execution_count": 14,
      "outputs": [
        {
          "output_type": "stream",
          "name": "stdout",
          "text": [
            "269.99999999999983\n",
            "0.0\n"
          ]
        }
      ]
    },
    {
      "cell_type": "markdown",
      "source": [
        "Dimension Theorem\n",
        "*   If U is a subset of V, any basis of U will have the same length and number of elements\n",
        "*   The number of elements is known as the dimension\n",
        "\n",
        "Orthonormal Bases\n",
        "*   Vectors are orthonormal if they are pariwise orthogonal and have a norm of 1"
      ],
      "metadata": {
        "id": "EwJ5IZgy4REM"
      }
    },
    {
      "cell_type": "code",
      "source": [
        "# If angle between vectors is pi/2, the vectors are orthogonal\n",
        "from numpy import arccos, dot\n",
        "from numpy.linalg import norm\n",
        "\n",
        "v = np.array([[12, 9, 3]])\n",
        "w = np.array([[2, 7, 12]])\n",
        "theta = arccos(dot(v, w.T)/(norm(v)*norm(w)))\n",
        "print(theta) # These vectors are not orthogonal"
      ],
      "metadata": {
        "colab": {
          "base_uri": "https://localhost:8080/"
        },
        "id": "QapVYPPG309w",
        "outputId": "b81cf487-f248-411a-924b-d33b6529b73e"
      },
      "execution_count": 17,
      "outputs": [
        {
          "output_type": "stream",
          "name": "stdout",
          "text": [
            "[[0.96078037]]\n"
          ]
        }
      ]
    },
    {
      "cell_type": "markdown",
      "source": [
        "Best Approximation Theorem\n",
        "*   Let U be a subset of V and a linear subspace with orthonormal basis and v be an element of V. for any u the is an element of U, $||v-Pu v|| <= ||v-u||$\n",
        "\n",
        "Pythagorean Theorem\n",
        "*   If u and v are elements of V and are orthogonal then $||u+v||^2 = ||u||^2 + ||v||^2$\n",
        "\n",
        "Eigenvalues and Eigenvectors\n",
        "*   Eigenvalues and Eigenvectors can be found using the formula $Ax=\\lambda x$\n",
        "*   A is a square matrix and x is a column vector with the same number of rows as A. $\\lambda$ is a scalar. Any $\\lambda$ that satisfies the equation is known as an eigenvalue of the matrix A\n",
        "*   The associated vector x is called the eigenvector for that $\\lambda$"
      ],
      "metadata": {
        "id": "iYGugM5_5X1r"
      }
    },
    {
      "cell_type": "code",
      "source": [
        "from numpy.linalg import eig\n",
        "\n",
        "a = np.array([[1, 2, 3], [5, 6, 4], [9, 8, 7]])\n",
        "w,v=eig(a)\n",
        "print('E-value:', w)\n",
        "print('E-vector', v)"
      ],
      "metadata": {
        "colab": {
          "base_uri": "https://localhost:8080/"
        },
        "id": "P8BxpVXw5MJI",
        "outputId": "6e665fea-fa6f-447c-ab63-79e895a24275"
      },
      "execution_count": 21,
      "outputs": [
        {
          "output_type": "stream",
          "name": "stdout",
          "text": [
            "E-value: [14.80859459 -1.88392795  1.07533337]\n",
            "E-vector [[-0.25255641 -0.76445483  0.34408609]\n",
            " [-0.51525747  0.16920064 -0.77723295]\n",
            " [-0.81897803  0.62207713  0.52679569]]\n"
          ]
        }
      ]
    },
    {
      "cell_type": "markdown",
      "source": [
        "**1.3 Linear Regression**\n",
        "\n",
        "QR Decomposition\n",
        "*   An iterative way to find all the eigenvalues and eigenvectors of a matrix"
      ],
      "metadata": {
        "id": "LXmwxjV97Zpi"
      }
    },
    {
      "cell_type": "code",
      "source": [
        "from numpy.linalg import qr\n",
        "\n",
        "a = np.array([[1, 2, 3],\n",
        "              [5, 6, 4],\n",
        "              [7, 8, 9]])\n",
        "p = [1, 5, 10, 20]\n",
        "\n",
        "for i in range(20):\n",
        "    q, r = qr(a)\n",
        "    a = np.dot(r, q)\n",
        "    if i+1 in p:\n",
        "        print(f'Iteration {i+1}:')\n",
        "        print(a)"
      ],
      "metadata": {
        "colab": {
          "base_uri": "https://localhost:8080/"
        },
        "id": "KQyw2LB67Q0h",
        "outputId": "ed91555b-e7f2-4471-e56b-6a6d935d0887"
      },
      "execution_count": 23,
      "outputs": [
        {
          "output_type": "stream",
          "name": "stdout",
          "text": [
            "Iteration 1:\n",
            "[[14.89333333 -7.40135466  0.52463139]\n",
            " [-1.52160734 -0.17904762 -0.01649572]\n",
            " [-1.94422221 -0.59384599  1.28571429]]\n",
            "Iteration 5:\n",
            "[[ 1.55393444e+01  4.08788879e+00  4.67051989e+00]\n",
            " [-5.29274466e-05  1.58123832e+00  7.14158752e-01]\n",
            " [ 3.50998362e-05 -8.59151240e-01 -1.12058275e+00]]\n",
            "Iteration 10:\n",
            "[[ 1.55393401e+01  2.12361946e+00 -5.83222535e+00]\n",
            " [-2.25745080e-10  1.27718966e+00 -1.64360112e+00]\n",
            " [ 1.59982622e-11 -7.02645788e-02 -8.16529791e-01]]\n",
            "Iteration 20:\n",
            "[[ 1.55393401e+01  2.31045095e+00 -5.76076631e+00]\n",
            " [-4.93436671e-21  1.33021360e+00 -1.57438974e+00]\n",
            " [ 4.97546613e-24 -1.05319918e-03 -8.69553732e-01]]\n"
          ]
        }
      ]
    },
    {
      "cell_type": "markdown",
      "source": [
        "Least Squares Regression\n",
        "*   Very common method for creating an estimation function to describe data\n",
        "*   Finds parameters that minimize the squared error between the regression function and data points"
      ],
      "metadata": {
        "id": "qMVU_ta375aM"
      }
    },
    {
      "cell_type": "code",
      "source": [
        "from scipy import optimize\n",
        "import matplotlib.pyplot as plt\n",
        "\n",
        "x = np.linspace(0, 1, 101)\n",
        "y = 1 + x + x * np.random.random(len(x))\n",
        "\n",
        "A = np.vstack([x, np.ones(len(x))]).T\n",
        "\n",
        "y = y[:, np.newaxis]\n",
        "\n",
        "pinv = np.linalg.pinv(A)\n",
        "alpha = pinv.dot(y)\n",
        "print(alpha)\n",
        "\n",
        "plt.figure(figsize = (10,8))\n",
        "plt.plot(x, y, 'b.')\n",
        "plt.plot(x, alpha[0]*x + alpha[1], 'r')\n",
        "plt.xlabel('x'); plt.ylabel('y')\n",
        "plt.show()"
      ],
      "metadata": {
        "colab": {
          "base_uri": "https://localhost:8080/",
          "height": 734
        },
        "id": "Zturrlm_7p29",
        "outputId": "2904491b-f7d5-46b7-8170-0c0a96c496dd"
      },
      "execution_count": 24,
      "outputs": [
        {
          "output_type": "stream",
          "name": "stdout",
          "text": [
            "[[1.47741417]\n",
            " [0.99399355]]\n"
          ]
        },
        {
          "output_type": "display_data",
          "data": {
            "text/plain": [
              "<Figure size 1000x800 with 1 Axes>"
            ],
            "image/png": "[encoded data removed]"
          },
          "metadata": {}
        }
      ]
    },
    {
      "cell_type": "code",
      "source": [],
      "metadata": {
        "id": "FtOgS0vk8NZW"
      },
      "execution_count": null,
      "outputs": []
    }
  ]
}