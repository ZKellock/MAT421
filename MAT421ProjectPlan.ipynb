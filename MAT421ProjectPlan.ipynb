{
  "nbformat": 4,
  "nbformat_minor": 0,
  "metadata": {
    "colab": {
      "provenance": [],
      "authorship_tag": "ABX9TyMaqnWTjsJe2qUd5Y85o46U",
      "include_colab_link": true
    },
    "kernelspec": {
      "name": "python3",
      "display_name": "Python 3"
    },
    "language_info": {
      "name": "python"
    }
  },
  "cells": [
    {
      "cell_type": "markdown",
      "metadata": {
        "id": "view-in-github",
        "colab_type": "text"
      },
      "source": [
        "<a href=\"https://colab.research.google.com/github/ZKellock/MAT421/blob/main/MAT421ProjectPlan.ipynb\" target=\"_parent\"><img src=\"https://colab.research.google.com/assets/colab-badge.svg\" alt=\"Open In Colab\"/></a>"
      ]
    },
    {
      "cell_type": "markdown",
      "source": [
        "# **Project Plan for Interpolation of Temperature Data**\n",
        "\n",
        "## Introduction to the Problem / Research Objective:\n",
        "\n",
        "Temperature data is an essential part in areas such as climate research, weather forecasting, and environmental analysis. However, many major temperature datasets have missing values due to machine errors, sensor malfunctions, or data transmission issues. Being able to accuratrely predict these missing values is crucial to maintaining reliability and consistency in temperature data. This project aims to use various interpolation strategies to estimate missing temperature values in the NOAA Surface Temperature Data and compare the interpolated results to determine which method is most accurate to fill in the gaps in temperature records.\n",
        "\n",
        "## Related Work / Literature Review:\n",
        "\n",
        "*   Press, W. H., Teukolsky, S. A., Vetterling, W. T., & Flannery, B. P. (2007). *Numerical Recipes in C: The Art of Scientific Computing* provides an in-depth explanation of Lagrange and spline interpolation methods. This sourve serves as a foundational reference for applying interpolation in numerical data problems.\n",
        "*   Hutchinson, M. F. (1995). “Interpolating Mean Rainfall Using Thin Plate Smoothing Splines” discusses the use of interpolation in estimating average rainfall, demonstrating the effectiveness of interpolation in environmental data.\n",
        "*   New, M., Hulme, M., & Jones, P. (2000). “Representing Twentieth-Century Space-Time Climate Variability” used and compared various interpolation strategies and regression models to estimate historical climate records.\n",
        "*   Kang, J. S., & Wang, H. (2007). “Application of Polynomial Regression in Climate Modeling” uses polynomial regression to model climate, making it a useful comparison to interpolation methods.\n",
        "\n",
        "This project will build on these previous works by comparing different methods of interpolation to estimate missing values in temperature data.\n",
        "\n",
        "## Hypotheis / Research Question:\n",
        "\n",
        "Research Question: Which method of interpolation is the most accurate when used to estimate missing values in collected temperature data?\n",
        "\n",
        "Hypothesis: Cubic Spline Interpolation will be the most accurate and simple linear interoplation will be the least accurate.\n",
        "\n",
        "## Methodology:\n",
        "\n",
        "This project will follow these main steps:\n",
        "\n",
        "1.   Data Preprocessing: Load the temperature dataset, filter the dataset to the desired size, and identify missing values.\n",
        "2.   Exploratory Data Analysis: Visualize trends in the data with graphs or charts, and look for patterns.\n",
        "3.   Interpolation Methods: Use the Lagrange, Cubic Spline, and Linear interpolation methods to compare their performance.\n",
        "4.   Model Evauluation: Compared estimates from each interpolation method with actual known values using performance metrics such as Mean Absolute Error and Root Mean Squared Error.\n",
        "5.   Comparison and Conclusion: Analyze which method provides the most accurate representation for estimating temperature data.\n",
        "\n",
        "## Experiment Setup:\n",
        "*   Data Collection: The data will be numeric and will be subset of the NAOO Surface Temperature Dataset, focusing on a single location and time frame.\n",
        "*   Data Analysis Software and Tools: Python, NumPy, SciPy, Pandas, Matplotlib\n",
        "*   Evaluation: MAE and RMSE will be used to measure accuracy\n",
        "\n",
        "## Expected Results:\n",
        "*   Visualization of Missing Data: Create a graphical representation of temperature trends with comparison of interpolation methods and actual values.\n",
        "*   Error Analysis: Performance metrics will determine which method of interpolation is most accurate when predicting missing temperature data.\n",
        "*   Conclusion: Provide insights about the most accurate method of interpolation for temperature estimation, and discuss real world applications of interpolation.\n",
        "\n",
        "This project will contribute to data science research by evaulating various interpolation methods when applied to a real world scenario to establish pros and cons for each method. The findings can help improve data quality and research in areas such as environmental sciences, and weather forecast modelling."
      ],
      "metadata": {
        "id": "vtOrG29s9SG1"
      }
    }
  ]
}